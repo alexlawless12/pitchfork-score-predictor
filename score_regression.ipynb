{
 "cells": [
  {
   "cell_type": "code",
   "execution_count": 1,
   "id": "d607ed8a",
   "metadata": {},
   "outputs": [
    {
     "name": "stdout",
     "output_type": "stream",
     "text": [
      "                            OLS Regression Results                            \n",
      "==============================================================================\n",
      "Dep. Variable:                  score   R-squared:                       0.011\n",
      "Model:                            OLS   Adj. R-squared:                  0.011\n",
      "Method:                 Least Squares   F-statistic:                     120.2\n",
      "Date:                Wed, 06 Dec 2023   Prob (F-statistic):           1.23e-52\n",
      "Time:                        12:24:01   Log-Likelihood:                -34124.\n",
      "No. Observations:               21213   AIC:                         6.825e+04\n",
      "Df Residuals:                   21210   BIC:                         6.828e+04\n",
      "Df Model:                           2                                         \n",
      "Covariance Type:            nonrobust                                         \n",
      "================================================================================\n",
      "                   coef    std err          t      P>|t|      [0.025      0.975]\n",
      "--------------------------------------------------------------------------------\n",
      "const           37.9073      2.011     18.846      0.000      33.965      41.850\n",
      "release_year    -0.0154      0.001    -15.339      0.000      -0.017      -0.013\n",
      "popularity       0.0011      0.000      3.053      0.002       0.000       0.002\n",
      "==============================================================================\n",
      "Omnibus:                     5607.872   Durbin-Watson:                   1.828\n",
      "Prob(Omnibus):                  0.000   Jarque-Bera (JB):            16569.966\n",
      "Skew:                          -1.377   Prob(JB):                         0.00\n",
      "Kurtosis:                       6.341   Cond. No.                     4.87e+05\n",
      "==============================================================================\n",
      "\n",
      "Notes:\n",
      "[1] Standard Errors assume that the covariance matrix of the errors is correctly specified.\n",
      "[2] The condition number is large, 4.87e+05. This might indicate that there are\n",
      "strong multicollinearity or other numerical problems.\n"
     ]
    }
   ],
   "source": [
    "import pandas as pd\n",
    "import statsmodels.api as sm\n",
    "\n",
    "df = pd.read_csv('./album_info.csv')\n",
    "\n",
    "df_regression = df.dropna(subset=['score', 'release_year', 'popularity'])\n",
    "\n",
    "# Select features for linear regression\n",
    "X = df_regression[['release_year', 'popularity']]\n",
    "\n",
    "# Add a constant term to the features matrix\n",
    "X = sm.add_constant(X)\n",
    "\n",
    "# Target variable\n",
    "y = df_regression['score']\n",
    "\n",
    "# Fit the linear regression model\n",
    "model = sm.OLS(y, X).fit()\n",
    "\n",
    "# Print the summary\n",
    "print(model.summary())"
   ]
  }
 ],
 "metadata": {
  "kernelspec": {
   "display_name": "Python 3 (ipykernel)",
   "language": "python",
   "name": "python3"
  },
  "language_info": {
   "codemirror_mode": {
    "name": "ipython",
    "version": 3
   },
   "file_extension": ".py",
   "mimetype": "text/x-python",
   "name": "python",
   "nbconvert_exporter": "python",
   "pygments_lexer": "ipython3",
   "version": "3.11.4"
  }
 },
 "nbformat": 4,
 "nbformat_minor": 5
}
