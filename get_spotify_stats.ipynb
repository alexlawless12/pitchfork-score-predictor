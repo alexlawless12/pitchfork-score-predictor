{
 "cells": [
  {
   "cell_type": "code",
   "execution_count": 65,
   "id": "30c7070b",
   "metadata": {},
   "outputs": [],
   "source": [
    "import spotipy\n",
    "from spotipy.oauth2 import SpotifyClientCredentials\n",
    "import spotipy.util as util\n",
    "import pandas as pd\n",
    "\n",
    "# Set your Spotify API credentials\n",
    "client_id = ‘CLIENT_ID’\n",
    "client_secret = ‘CLIENT_SECRET’\n",
    "redirect_uri = ‘REDIRECT_URI’\n",
    "username = ‘USERNAME’\n",
    "\n",
    "client_credentials_manager = SpotifyClientCredentials(\n",
    "    client_id=client_id, client_secret=client_secret)\n",
    "sp = spotipy.Spotify(client_credentials_manager=client_credentials_manager)"
   ]
  },
  {
   "cell_type": "code",
   "execution_count": 71,
   "id": "de9c6f0a",
   "metadata": {},
   "outputs": [
    {
     "name": "stdout",
     "output_type": "stream",
     "text": [
      "{'artists': {'href': 'https://api.spotify.com/v1/search?query=artist%3AParquet+Courts&type=artist&offset=0&limit=10', 'items': [{'external_urls': {'spotify': 'https://open.spotify.com/artist/23NIwARd4vPbxt3wwNnJ6k'}, 'followers': {'href': None, 'total': 275852}, 'genres': ['alternative rock', 'american post-punk', 'brooklyn indie', 'chamber pop', 'crank wave', 'denton tx indie', 'indie rock', 'lo-fi', 'neo-psychedelic', 'noise pop', 'noise rock'], 'href': 'https://api.spotify.com/v1/artists/23NIwARd4vPbxt3wwNnJ6k', 'id': '23NIwARd4vPbxt3wwNnJ6k', 'images': [{'height': 640, 'url': 'https://i.scdn.co/image/ab6761610000e5eba968b1bb3c46e65911d8bb8c', 'width': 640}, {'height': 320, 'url': 'https://i.scdn.co/image/ab67616100005174a968b1bb3c46e65911d8bb8c', 'width': 320}, {'height': 160, 'url': 'https://i.scdn.co/image/ab6761610000f178a968b1bb3c46e65911d8bb8c', 'width': 160}], 'name': 'Parquet Courts', 'popularity': 47, 'type': 'artist', 'uri': 'spotify:artist:23NIwARd4vPbxt3wwNnJ6k'}], 'limit': 10, 'next': None, 'offset': 0, 'previous': None, 'total': 1}}\n"
     ]
    }
   ],
   "source": [
    "test = sp.search(q='artist:' + \"Parquet Courts\", type='artist')\n",
    "print(test)"
   ]
  },
  {
   "cell_type": "code",
   "execution_count": 66,
   "id": "9c817fcf",
   "metadata": {},
   "outputs": [],
   "source": [
    "api_cache = {}"
   ]
  },
  {
   "cell_type": "code",
   "execution_count": 80,
   "id": "f0a1cd02",
   "metadata": {
    "scrolled": false
   },
   "outputs": [
    {
     "name": "stdout",
     "output_type": "stream",
     "text": [
      "BATCH NUMBER 3050\n",
      "BATCH NUMBER 3100\n",
      "BATCH NUMBER 3150\n",
      "BATCH NUMBER 3200\n",
      "BATCH NUMBER 3250\n",
      "BATCH NUMBER 3300\n",
      "BATCH NUMBER 3350\n",
      "BATCH NUMBER 3400\n",
      "BATCH NUMBER 3450\n",
      "BATCH NUMBER 3500\n",
      "BATCH NUMBER 3550\n",
      "BATCH NUMBER 3600\n",
      "BATCH NUMBER 3650\n",
      "BATCH NUMBER 3700\n",
      "BATCH NUMBER 3750\n",
      "BATCH NUMBER 3800\n",
      "BATCH NUMBER 3850\n",
      "BATCH NUMBER 3900\n",
      "BATCH NUMBER 3950\n",
      "BATCH NUMBER 4000\n",
      "BATCH NUMBER 4050\n",
      "BATCH NUMBER 4100\n",
      "BATCH NUMBER 4150\n",
      "BATCH NUMBER 4200\n",
      "BATCH NUMBER 4250\n",
      "BATCH NUMBER 4300\n",
      "BATCH NUMBER 4350\n",
      "BATCH NUMBER 4400\n",
      "BATCH NUMBER 4450\n",
      "BATCH NUMBER 4500\n"
     ]
    },
    {
     "name": "stderr",
     "output_type": "stream",
     "text": [
      "HTTP Error for GET to https://api.spotify.com/v1/search with Params: {'q': 'artist:Planningtorock, Planningtorock, Planningtorock, Planningtorock, Planningtorock, Planningtorock, Planningtorock, Planningtorock, Planningtorock, The Knife, The Knife, The Knife, The Knife, The Knife, The Knife, The Knife, The Knife, The Knife, Mt. Sims, Mt. Sims, Mt. Sims, Mt. Sims, Mt. Sims, Mt. Sims, Mt. Sims, Mt. Sims, Mt. Sims', 'limit': 10, 'offset': 0, 'type': 'artist', 'market': None} returned 400 due to Bad request.\n"
     ]
    },
    {
     "name": "stdout",
     "output_type": "stream",
     "text": [
      "BATCH NUMBER 4550\n",
      "BATCH NUMBER 4600\n",
      "BATCH NUMBER 4650\n",
      "BATCH NUMBER 4700\n",
      "BATCH NUMBER 4750\n",
      "BATCH NUMBER 4800\n",
      "BATCH NUMBER 4850\n",
      "BATCH NUMBER 4900\n",
      "BATCH NUMBER 4950\n",
      "BATCH NUMBER 5000\n",
      "BATCH NUMBER 5050\n",
      "BATCH NUMBER 5100\n",
      "BATCH NUMBER 5150\n",
      "BATCH NUMBER 5200\n",
      "BATCH NUMBER 5250\n",
      "BATCH NUMBER 5300\n",
      "BATCH NUMBER 5350\n",
      "BATCH NUMBER 5400\n",
      "BATCH NUMBER 5450\n",
      "BATCH NUMBER 5500\n",
      "BATCH NUMBER 5550\n",
      "BATCH NUMBER 5600\n"
     ]
    },
    {
     "name": "stderr",
     "output_type": "stream",
     "text": [
      "HTTP Error for GET to https://api.spotify.com/v1/search with Params: {'q': 'artist:Throbbing Gristle, Throbbing Gristle, Throbbing Gristle, Throbbing Gristle, Throbbing Gristle, Throbbing Gristle, Throbbing Gristle, Throbbing Gristle, Throbbing Gristle, Throbbing Gristle, Throbbing Gristle, Throbbing Gristle, Throbbing Gristle, Throbbing Gristle, Throbbing Gristle, Throbbing Gristle, Throbbing Gristle, Throbbing Gristle, Throbbing Gristle, Throbbing Gristle, Throbbing Gristle, Throbbing Gristle, Throbbing Gristle, Throbbing Gristle, Throbbing Gristle, Throbbing Gristle, Throbbing Gristle, Throbbing Gristle, Throbbing Gristle, Throbbing Gristle', 'limit': 10, 'offset': 0, 'type': 'artist', 'market': None} returned 400 due to Bad request.\n"
     ]
    },
    {
     "name": "stdout",
     "output_type": "stream",
     "text": [
      "BATCH NUMBER 5650\n",
      "BATCH NUMBER 5700\n",
      "BATCH NUMBER 5750\n",
      "BATCH NUMBER 5800\n",
      "BATCH NUMBER 5850\n",
      "BATCH NUMBER 5900\n",
      "BATCH NUMBER 5950\n",
      "BATCH NUMBER 6000\n",
      "BATCH NUMBER 6050\n",
      "BATCH NUMBER 6100\n",
      "BATCH NUMBER 6150\n",
      "BATCH NUMBER 6200\n"
     ]
    },
    {
     "name": "stderr",
     "output_type": "stream",
     "text": [
      "HTTP Error for GET to https://api.spotify.com/v1/search with Params: {'q': 'artist:Everything But the Girl, Everything But the Girl, Everything But the Girl, Everything But the Girl, Everything But the Girl, Everything But the Girl, Everything But the Girl, Everything But the Girl, Everything But the Girl, Everything But the Girl, Everything But the Girl, Everything But the Girl, Everything But the Girl, Everything But the Girl, Everything But the Girl, Everything But the Girl', 'limit': 10, 'offset': 0, 'type': 'artist', 'market': None} returned 400 due to Bad request.\n"
     ]
    },
    {
     "name": "stdout",
     "output_type": "stream",
     "text": [
      "BATCH NUMBER 6250\n",
      "BATCH NUMBER 6300\n",
      "BATCH NUMBER 6350\n",
      "BATCH NUMBER 6400\n",
      "BATCH NUMBER 6450\n",
      "BATCH NUMBER 6500\n",
      "BATCH NUMBER 6550\n"
     ]
    },
    {
     "name": "stderr",
     "output_type": "stream",
     "text": [
      "HTTP Error for GET to https://api.spotify.com/v1/search with Params: {'q': 'artist:Joni Mitchell, Joni Mitchell, Joni Mitchell, Joni Mitchell, Joni Mitchell, Joni Mitchell, Joni Mitchell, Joni Mitchell, Joni Mitchell, Joni Mitchell, Joni Mitchell, Joni Mitchell, Joni Mitchell, Joni Mitchell, Joni Mitchell, Joni Mitchell, Joni Mitchell, Joni Mitchell, Joni Mitchell, Joni Mitchell, Joni Mitchell', 'limit': 10, 'offset': 0, 'type': 'artist', 'market': None} returned 400 due to Bad request.\n"
     ]
    },
    {
     "name": "stdout",
     "output_type": "stream",
     "text": [
      "BATCH NUMBER 6600\n",
      "BATCH NUMBER 6650\n",
      "BATCH NUMBER 6700\n",
      "BATCH NUMBER 6750\n",
      "BATCH NUMBER 6800\n",
      "BATCH NUMBER 6850\n",
      "BATCH NUMBER 6900\n"
     ]
    },
    {
     "name": "stderr",
     "output_type": "stream",
     "text": [
      "HTTP Error for GET to https://api.spotify.com/v1/search with Params: {'q': 'artist:The Mississippi Sheiks, The Mississippi Sheiks, The Mississippi Sheiks, The Mississippi Sheiks, The Mississippi Sheiks, The Mississippi Sheiks, The Mississippi Sheiks, The Mississippi Sheiks, The Mississippi Sheiks, The Mississippi Sheiks, The Mississippi Sheiks, The Mississippi Sheiks', 'limit': 10, 'offset': 0, 'type': 'artist', 'market': None} returned 400 due to Bad request.\n"
     ]
    },
    {
     "name": "stdout",
     "output_type": "stream",
     "text": [
      "BATCH NUMBER 6950\n",
      "BATCH NUMBER 7000\n",
      "BATCH NUMBER 7050\n",
      "BATCH NUMBER 7100\n",
      "BATCH NUMBER 7150\n",
      "BATCH NUMBER 7200\n",
      "BATCH NUMBER 7250\n",
      "BATCH NUMBER 7300\n",
      "BATCH NUMBER 7350\n",
      "BATCH NUMBER 7400\n",
      "BATCH NUMBER 7450\n",
      "BATCH NUMBER 7500\n",
      "BATCH NUMBER 7550\n",
      "BATCH NUMBER 7600\n",
      "BATCH NUMBER 7650\n",
      "BATCH NUMBER 7700\n",
      "BATCH NUMBER 7750\n",
      "BATCH NUMBER 7800\n",
      "BATCH NUMBER 7850\n",
      "BATCH NUMBER 7900\n",
      "BATCH NUMBER 7950\n",
      "BATCH NUMBER 8000\n",
      "BATCH NUMBER 8050\n",
      "BATCH NUMBER 8100\n",
      "BATCH NUMBER 8150\n",
      "BATCH NUMBER 8200\n",
      "BATCH NUMBER 8250\n",
      "BATCH NUMBER 8300\n",
      "BATCH NUMBER 8350\n",
      "BATCH NUMBER 8400\n",
      "BATCH NUMBER 8450\n",
      "BATCH NUMBER 8500\n",
      "BATCH NUMBER 8550\n",
      "BATCH NUMBER 8600\n",
      "BATCH NUMBER 8650\n",
      "BATCH NUMBER 8700\n",
      "BATCH NUMBER 8750\n",
      "BATCH NUMBER 8800\n",
      "BATCH NUMBER 8850\n",
      "BATCH NUMBER 8900\n",
      "BATCH NUMBER 8950\n",
      "BATCH NUMBER 9000\n",
      "BATCH NUMBER 9050\n",
      "BATCH NUMBER 9100\n",
      "BATCH NUMBER 9150\n",
      "BATCH NUMBER 9200\n",
      "BATCH NUMBER 9250\n",
      "BATCH NUMBER 9300\n",
      "BATCH NUMBER 9350\n",
      "BATCH NUMBER 9400\n"
     ]
    },
    {
     "name": "stderr",
     "output_type": "stream",
     "text": [
      "HTTP Error for GET to https://api.spotify.com/v1/search with Params: {'q': 'artist:The Isley Brothers, The Isley Brothers, The Isley Brothers, The Isley Brothers, The Isley Brothers, The Isley Brothers, The Isley Brothers, The Isley Brothers, The Isley Brothers, The Isley Brothers, The Isley Brothers, The Isley Brothers, The Isley Brothers, The Isley Brothers, The Isley Brothers, The Isley Brothers, The Isley Brothers, The Isley Brothers, The Isley Brothers, The Isley Brothers, The Isley Brothers, The Isley Brothers, The Isley Brothers, The Isley Brothers, The Isley Brothers, The Isley Brothers, The Isley Brothers, The Isley Brothers, The Isley Brothers, The Isley Brothers, The Isley Brothers, The Isley Brothers, The Isley Brothers, The Isley Brothers, The Isley Brothers, The Isley Brothers, The Isley Brothers, The Isley Brothers, The Isley Brothers, The Isley Brothers, The Isley Brothers, The Isley Brothers, The Isley Brothers, The Isley Brothers, The Isley Brothers', 'limit': 10, 'offset': 0, 'type': 'artist', 'market': None} returned 400 due to Bad request.\n"
     ]
    },
    {
     "name": "stdout",
     "output_type": "stream",
     "text": [
      "BATCH NUMBER 9450\n",
      "BATCH NUMBER 9500\n",
      "BATCH NUMBER 9550\n",
      "BATCH NUMBER 9600\n",
      "BATCH NUMBER 9650\n",
      "BATCH NUMBER 9700\n",
      "BATCH NUMBER 9750\n",
      "BATCH NUMBER 9800\n",
      "BATCH NUMBER 9850\n",
      "BATCH NUMBER 9900\n",
      "BATCH NUMBER 9950\n",
      "ARTIST NAME: nan is nan?\n",
      "BATCH NUMBER 10000\n"
     ]
    },
    {
     "name": "stderr",
     "output_type": "stream",
     "text": [
      "HTTP Error for GET to https://api.spotify.com/v1/search with Params: {'q': 'artist:Cluster, Cluster, Cluster, Cluster, Cluster, Cluster, Cluster, Cluster, Cluster, Cluster, Cluster, Cluster, Cluster, Cluster, Cluster, Cluster, Cluster, Cluster, Cluster, Cluster, Cluster, Cluster, Cluster, Cluster, Cluster, Cluster, Cluster, Cluster, Cluster, Cluster, Cluster, Cluster, Cluster, Cluster, Cluster, Cluster, Cluster, Cluster, Cluster, Cluster, Cluster, Cluster, Cluster, Cluster, Cluster, Cluster, Cluster, Cluster, Cluster, Cluster, Cluster', 'limit': 10, 'offset': 0, 'type': 'artist', 'market': None} returned 400 due to Bad request.\n"
     ]
    },
    {
     "name": "stdout",
     "output_type": "stream",
     "text": [
      "BATCH NUMBER 10050\n",
      "BATCH NUMBER 10100\n",
      "BATCH NUMBER 10150\n",
      "BATCH NUMBER 10200\n",
      "BATCH NUMBER 10250\n",
      "BATCH NUMBER 10300\n",
      "BATCH NUMBER 10350\n",
      "BATCH NUMBER 10400\n",
      "BATCH NUMBER 10450\n"
     ]
    },
    {
     "name": "stderr",
     "output_type": "stream",
     "text": [
      "HTTP Error for GET to https://api.spotify.com/v1/search with Params: {'q': 'artist:Nina Simone, Nina Simone, Nina Simone, Nina Simone, Nina Simone, Nina Simone, Nina Simone, Nina Simone, Nina Simone, Nina Simone, Nina Simone, Nina Simone, Nina Simone, Nina Simone, Nina Simone, Nina Simone, Nina Simone, Nina Simone, Nina Simone, Nina Simone, Nina Simone, Nina Simone, Nina Simone, Nina Simone, Nina Simone, Nina Simone, Nina Simone, Nina Simone', 'limit': 10, 'offset': 0, 'type': 'artist', 'market': None} returned 400 due to Bad request.\n"
     ]
    },
    {
     "name": "stdout",
     "output_type": "stream",
     "text": [
      "BATCH NUMBER 10500\n",
      "BATCH NUMBER 10550\n",
      "BATCH NUMBER 10600\n"
     ]
    },
    {
     "name": "stderr",
     "output_type": "stream",
     "text": [
      "HTTP Error for GET to https://api.spotify.com/v1/search with Params: {'q': 'artist:Patti Smith, Patti Smith, Patti Smith, Patti Smith, Patti Smith, Patti Smith, Soundwalk Collective, Soundwalk Collective, Soundwalk Collective, Soundwalk Collective, Soundwalk Collective, Soundwalk Collective, Jesse Paris Smith, Jesse Paris Smith, Jesse Paris Smith, Jesse Paris Smith, Jesse Paris Smith, Jesse Paris Smith', 'limit': 10, 'offset': 0, 'type': 'artist', 'market': None} returned 400 due to Bad request.\n"
     ]
    },
    {
     "name": "stdout",
     "output_type": "stream",
     "text": [
      "BATCH NUMBER 10650\n"
     ]
    },
    {
     "name": "stderr",
     "output_type": "stream",
     "text": [
      "HTTP Error for GET to https://api.spotify.com/v1/search with Params: {'q': 'artist:John Lennon, John Lennon, John Lennon, John Lennon, John Lennon, John Lennon, John Lennon, John Lennon, Yoko Ono, Yoko Ono, Yoko Ono, Yoko Ono, Yoko Ono, Yoko Ono, Yoko Ono, Yoko Ono, John Lennon, John Lennon, John Lennon, John Lennon, John Lennon, John Lennon, John Lennon, John Lennon, Yoko Ono, Yoko Ono, Yoko Ono, Yoko Ono, Yoko Ono, Yoko Ono, Yoko Ono, Yoko Ono, John Lennon, John Lennon, John Lennon, John Lennon, John Lennon, John Lennon, John Lennon, John Lennon, Yoko Ono, Yoko Ono, Yoko Ono, Yoko Ono, Yoko Ono, Yoko Ono, Yoko Ono, Yoko Ono', 'limit': 10, 'offset': 0, 'type': 'artist', 'market': None} returned 400 due to Bad request.\n"
     ]
    },
    {
     "name": "stdout",
     "output_type": "stream",
     "text": [
      "BATCH NUMBER 10700\n",
      "BATCH NUMBER 10750\n",
      "BATCH NUMBER 10800\n"
     ]
    },
    {
     "name": "stderr",
     "output_type": "stream",
     "text": [
      "HTTP Error for GET to https://api.spotify.com/v1/search with Params: {'q': 'artist:Philip Glass, Philip Glass, Philip Glass, Philip Glass, Philip Glass, Philip Glass, Philip Glass, Philip Glass, Philip Glass, Philip Glass, Philip Glass, Philip Glass, Philip Glass, Philip Glass, Philip Glass, Philip Glass, Philip Glass, Philip Glass, Philip Glass, Philip Glass, Philip Glass, Philip Glass, Philip Glass, Philip Glass, Philip Glass, Philip Glass, Philip Glass, Philip Glass, Philip Glass', 'limit': 10, 'offset': 0, 'type': 'artist', 'market': None} returned 400 due to Bad request.\n"
     ]
    },
    {
     "name": "stdout",
     "output_type": "stream",
     "text": [
      "BATCH NUMBER 10850\n",
      "BATCH NUMBER 10900\n",
      "BATCH NUMBER 10950\n",
      "BATCH NUMBER 11000\n",
      "BATCH NUMBER 11050\n",
      "BATCH NUMBER 11100\n",
      "BATCH NUMBER 11150\n",
      "BATCH NUMBER 11200\n",
      "BATCH NUMBER 11250\n",
      "BATCH NUMBER 11300\n",
      "BATCH NUMBER 11350\n",
      "BATCH NUMBER 11400\n",
      "BATCH NUMBER 11450\n",
      "BATCH NUMBER 11500\n",
      "BATCH NUMBER 11550\n",
      "BATCH NUMBER 11600\n",
      "BATCH NUMBER 11650\n",
      "BATCH NUMBER 11700\n",
      "BATCH NUMBER 11750\n"
     ]
    },
    {
     "name": "stderr",
     "output_type": "stream",
     "text": [
      "HTTP Error for GET to https://api.spotify.com/v1/search with Params: {'q': 'artist:Dead Kennedys, Dead Kennedys, Dead Kennedys, Dead Kennedys, Dead Kennedys, Dead Kennedys, Dead Kennedys, Dead Kennedys, Dead Kennedys, Dead Kennedys, Dead Kennedys, Dead Kennedys, Dead Kennedys, Dead Kennedys, Dead Kennedys, Dead Kennedys, Dead Kennedys, Dead Kennedys, Dead Kennedys, Dead Kennedys', 'limit': 10, 'offset': 0, 'type': 'artist', 'market': None} returned 400 due to Bad request.\n"
     ]
    },
    {
     "name": "stdout",
     "output_type": "stream",
     "text": [
      "BATCH NUMBER 11800\n",
      "BATCH NUMBER 11850\n",
      "BATCH NUMBER 11900\n",
      "BATCH NUMBER 11950\n",
      "BATCH NUMBER 12000\n",
      "BATCH NUMBER 12050\n",
      "BATCH NUMBER 12100\n",
      "BATCH NUMBER 12150\n",
      "BATCH NUMBER 12200\n",
      "BATCH NUMBER 12250\n",
      "BATCH NUMBER 12300\n",
      "BATCH NUMBER 12350\n",
      "BATCH NUMBER 12400\n",
      "BATCH NUMBER 12450\n",
      "BATCH NUMBER 12500\n",
      "BATCH NUMBER 12550\n",
      "BATCH NUMBER 12600\n",
      "BATCH NUMBER 12650\n",
      "BATCH NUMBER 12700\n",
      "BATCH NUMBER 12750\n",
      "BATCH NUMBER 12800\n",
      "BATCH NUMBER 12850\n",
      "BATCH NUMBER 12900\n",
      "BATCH NUMBER 12950\n",
      "BATCH NUMBER 13000\n",
      "BATCH NUMBER 13050\n",
      "BATCH NUMBER 13100\n",
      "BATCH NUMBER 13150\n",
      "BATCH NUMBER 13200\n",
      "BATCH NUMBER 13250\n",
      "BATCH NUMBER 13300\n",
      "BATCH NUMBER 13350\n",
      "BATCH NUMBER 13400\n",
      "BATCH NUMBER 13450\n",
      "BATCH NUMBER 13500\n",
      "BATCH NUMBER 13550\n",
      "BATCH NUMBER 13600\n",
      "BATCH NUMBER 13650\n",
      "BATCH NUMBER 13700\n",
      "BATCH NUMBER 13750\n",
      "BATCH NUMBER 13800\n",
      "BATCH NUMBER 13850\n",
      "BATCH NUMBER 13900\n",
      "BATCH NUMBER 13950\n",
      "BATCH NUMBER 14000\n",
      "BATCH NUMBER 14050\n",
      "BATCH NUMBER 14100\n",
      "BATCH NUMBER 14150\n",
      "BATCH NUMBER 14200\n",
      "BATCH NUMBER 14250\n",
      "BATCH NUMBER 14300\n",
      "BATCH NUMBER 14350\n",
      "BATCH NUMBER 14400\n",
      "BATCH NUMBER 14450\n",
      "BATCH NUMBER 14500\n",
      "BATCH NUMBER 14550\n",
      "BATCH NUMBER 14600\n",
      "BATCH NUMBER 14650\n",
      "BATCH NUMBER 14700\n",
      "BATCH NUMBER 14750\n",
      "BATCH NUMBER 14800\n",
      "BATCH NUMBER 14850\n",
      "BATCH NUMBER 14900\n",
      "BATCH NUMBER 14950\n",
      "BATCH NUMBER 15000\n",
      "BATCH NUMBER 15050\n",
      "BATCH NUMBER 15100\n",
      "BATCH NUMBER 15150\n",
      "BATCH NUMBER 15200\n",
      "BATCH NUMBER 15250\n",
      "BATCH NUMBER 15300\n",
      "BATCH NUMBER 15350\n",
      "BATCH NUMBER 15400\n",
      "BATCH NUMBER 15450\n",
      "BATCH NUMBER 15500\n",
      "BATCH NUMBER 15550\n",
      "BATCH NUMBER 15600\n",
      "BATCH NUMBER 15650\n",
      "BATCH NUMBER 15700\n",
      "BATCH NUMBER 15750\n",
      "BATCH NUMBER 15800\n",
      "BATCH NUMBER 15850\n",
      "BATCH NUMBER 15900\n",
      "BATCH NUMBER 15950\n",
      "BATCH NUMBER 16000\n",
      "BATCH NUMBER 16050\n",
      "BATCH NUMBER 16100\n",
      "BATCH NUMBER 16150\n",
      "BATCH NUMBER 16200\n",
      "BATCH NUMBER 16250\n",
      "BATCH NUMBER 16300\n",
      "BATCH NUMBER 16350\n",
      "BATCH NUMBER 16400\n",
      "BATCH NUMBER 16450\n",
      "BATCH NUMBER 16500\n",
      "BATCH NUMBER 16550\n",
      "BATCH NUMBER 16600\n",
      "BATCH NUMBER 16650\n",
      "BATCH NUMBER 16700\n",
      "BATCH NUMBER 16750\n",
      "BATCH NUMBER 16800\n",
      "BATCH NUMBER 16850\n",
      "BATCH NUMBER 16900\n",
      "BATCH NUMBER 16950\n"
     ]
    },
    {
     "name": "stderr",
     "output_type": "stream",
     "text": [
      "HTTP Error for GET to https://api.spotify.com/v1/search with Params: {'q': 'artist:Bruce Springsteen, Bruce Springsteen, Bruce Springsteen, Bruce Springsteen, Bruce Springsteen, Bruce Springsteen, Bruce Springsteen, Bruce Springsteen, Bruce Springsteen, Bruce Springsteen, Bruce Springsteen, Bruce Springsteen, Bruce Springsteen, Bruce Springsteen', 'limit': 10, 'offset': 0, 'type': 'artist', 'market': None} returned 400 due to Bad request.\n"
     ]
    },
    {
     "name": "stdout",
     "output_type": "stream",
     "text": [
      "BATCH NUMBER 17000\n",
      "BATCH NUMBER 17050\n",
      "BATCH NUMBER 17100\n",
      "BATCH NUMBER 17150\n",
      "BATCH NUMBER 17200\n",
      "BATCH NUMBER 17250\n",
      "BATCH NUMBER 17300\n",
      "BATCH NUMBER 17350\n",
      "BATCH NUMBER 17400\n",
      "BATCH NUMBER 17450\n",
      "BATCH NUMBER 17500\n",
      "BATCH NUMBER 17550\n",
      "BATCH NUMBER 17600\n",
      "BATCH NUMBER 17650\n",
      "BATCH NUMBER 17700\n",
      "BATCH NUMBER 17750\n",
      "BATCH NUMBER 17800\n",
      "BATCH NUMBER 17850\n",
      "BATCH NUMBER 17900\n",
      "BATCH NUMBER 17950\n",
      "BATCH NUMBER 18000\n",
      "BATCH NUMBER 18050\n"
     ]
    },
    {
     "name": "stderr",
     "output_type": "stream",
     "text": [
      "HTTP Error for GET to https://api.spotify.com/v1/search with Params: {'q': 'artist:Haruomi Hosono, Haruomi Hosono, Haruomi Hosono, Haruomi Hosono, Haruomi Hosono, Haruomi Hosono, Haruomi Hosono, Haruomi Hosono, Haruomi Hosono, Haruomi Hosono, Haruomi Hosono, Haruomi Hosono, Haruomi Hosono, Haruomi Hosono, Haruomi Hosono, Haruomi Hosono', 'limit': 10, 'offset': 0, 'type': 'artist', 'market': None} returned 400 due to Bad request.\n"
     ]
    },
    {
     "name": "stdout",
     "output_type": "stream",
     "text": [
      "BATCH NUMBER 18100\n",
      "BATCH NUMBER 18150\n",
      "BATCH NUMBER 18200\n",
      "BATCH NUMBER 18250\n",
      "BATCH NUMBER 18300\n",
      "BATCH NUMBER 18350\n",
      "BATCH NUMBER 18400\n",
      "BATCH NUMBER 18450\n",
      "BATCH NUMBER 18500\n",
      "BATCH NUMBER 18550\n",
      "BATCH NUMBER 18600\n",
      "BATCH NUMBER 18650\n",
      "BATCH NUMBER 18700\n",
      "BATCH NUMBER 18750\n",
      "BATCH NUMBER 18800\n",
      "BATCH NUMBER 18850\n",
      "BATCH NUMBER 18900\n",
      "BATCH NUMBER 18950\n",
      "BATCH NUMBER 19000\n",
      "BATCH NUMBER 19050\n",
      "BATCH NUMBER 19100\n",
      "BATCH NUMBER 19150\n",
      "BATCH NUMBER 19200\n",
      "BATCH NUMBER 19250\n",
      "BATCH NUMBER 19300\n",
      "BATCH NUMBER 19350\n",
      "BATCH NUMBER 19400\n",
      "BATCH NUMBER 19450\n",
      "BATCH NUMBER 19500\n",
      "BATCH NUMBER 19550\n",
      "BATCH NUMBER 19600\n",
      "BATCH NUMBER 19650\n",
      "BATCH NUMBER 19700\n",
      "BATCH NUMBER 19750\n",
      "BATCH NUMBER 19800\n",
      "BATCH NUMBER 19850\n",
      "BATCH NUMBER 19900\n",
      "BATCH NUMBER 19950\n",
      "BATCH NUMBER 20000\n",
      "BATCH NUMBER 20050\n",
      "BATCH NUMBER 20100\n",
      "BATCH NUMBER 20150\n",
      "BATCH NUMBER 20200\n",
      "BATCH NUMBER 20250\n",
      "BATCH NUMBER 20300\n",
      "BATCH NUMBER 20350\n",
      "BATCH NUMBER 20400\n",
      "BATCH NUMBER 20450\n",
      "BATCH NUMBER 20500\n",
      "BATCH NUMBER 20550\n",
      "BATCH NUMBER 20600\n",
      "BATCH NUMBER 20650\n",
      "BATCH NUMBER 20700\n",
      "BATCH NUMBER 20750\n",
      "BATCH NUMBER 20800\n",
      "BATCH NUMBER 20850\n",
      "BATCH NUMBER 20900\n",
      "BATCH NUMBER 20950\n",
      "BATCH NUMBER 21000\n",
      "BATCH NUMBER 21050\n"
     ]
    },
    {
     "name": "stderr",
     "output_type": "stream",
     "text": [
      "HTTP Error for GET to https://api.spotify.com/v1/search with Params: {'q': 'artist:Various Artists, Various Artists, Various Artists, Various Artists, Various Artists, Various Artists, Various Artists, Various Artists, Various Artists, Various Artists, Various Artists, Various Artists, Various Artists, Various Artists, Various Artists, Various Artists, Various Artists, Various Artists', 'limit': 10, 'offset': 0, 'type': 'artist', 'market': None} returned 400 due to Bad request.\n"
     ]
    },
    {
     "name": "stdout",
     "output_type": "stream",
     "text": [
      "BATCH NUMBER 21100\n",
      "BATCH NUMBER 21150\n"
     ]
    },
    {
     "name": "stderr",
     "output_type": "stream",
     "text": [
      "HTTP Error for GET to https://api.spotify.com/v1/search with Params: {'q': 'artist:“Weird Al” Yankovic, “Weird Al” Yankovic, “Weird Al” Yankovic, “Weird Al” Yankovic, “Weird Al” Yankovic, “Weird Al” Yankovic, “Weird Al” Yankovic, “Weird Al” Yankovic, “Weird Al” Yankovic, “Weird Al” Yankovic, “Weird Al” Yankovic, “Weird Al” Yankovic, “Weird Al” Yankovic, “Weird Al” Yankovic, “Weird Al” Yankovic, “Weird Al” Yankovic', 'limit': 10, 'offset': 0, 'type': 'artist', 'market': None} returned 400 due to Bad request.\n"
     ]
    },
    {
     "name": "stdout",
     "output_type": "stream",
     "text": [
      "BATCH NUMBER 21200\n",
      "BATCH NUMBER 21250\n",
      "BATCH NUMBER 21300\n",
      "BATCH NUMBER 21350\n"
     ]
    }
   ],
   "source": [
    "import time\n",
    "from spotipy.client import SpotifyException\n",
    "\n",
    "df = pd.read_csv('./reviews_data.csv')\n",
    "\n",
    "# Function to extract the artist name before the comma\n",
    "def extract_artist_name(full_name):\n",
    "    return full_name.split(',')[0].strip()\n",
    "\n",
    "def spotify_query(artist_name):\n",
    "    try:\n",
    "        # Get spotify data for this artist\n",
    "        artist_data = {}\n",
    "        results_spotify = sp.search(q='artist:' + artist_name, type='artist')\n",
    "        artist = results_spotify['artists']['items'][0]\n",
    "        genres = artist['genres']            \n",
    "        popularity = artist['popularity']\n",
    "        uri = artist['uri']\n",
    "\n",
    "        # Update cache\n",
    "        api_cache[artist_name] = {'genres': genres, 'popularity': popularity, 'uri': uri}\n",
    "        artist_data = {'genres': genres, 'popularity': popularity, 'uri': uri}\n",
    "\n",
    "    except (IndexError, SpotifyException) as e:\n",
    "        if ',' in artist_name:\n",
    "            # Case where multiple artists were listed, used only first artist's stats\n",
    "            new_artist_name = extract_artist_name(artist_name)\n",
    "            artist_data = spotify_query(new_artist_name)\n",
    "        else:\n",
    "            artist_data = {'genres': None, 'popularity': None, 'uri': None}\n",
    "                \n",
    "    return artist_data\n",
    "\n",
    "# Function to get genre, popularity, and URI for an artist\n",
    "def get_artist_info(artist_names):\n",
    "    results = []\n",
    "    for artist_name in artist_names:\n",
    "        if artist_name in api_cache:\n",
    "            results.append(api_cache[artist_name])\n",
    "        elif type(artist_name) != str:\n",
    "            print(f\"ARTIST NAME: {artist_name} is nan?\")\n",
    "            continue\n",
    "        else:\n",
    "            artist_data = spotify_query(artist_name)\n",
    "            results.append(artist_data)\n",
    "\n",
    "    return results\n",
    "\n",
    "# Specify batch size for queries\n",
    "batch_size = 50  # Adjust as needed\n",
    "starting_index = 0 # If running multiple times is needed to avoid API rate limit\n",
    "\n",
    "\n",
    "df['genre'], df['popularity'], df['uri'] = zip(*df['name'].apply(lambda x: (None, None, None)))\n",
    "\n",
    "# Iterate over the DataFrame in batches\n",
    "for i in range(starting_index, len(df), batch_size):\n",
    "    print(f\"BATCH NUMBER {i}\")\n",
    "    batch_df = df.iloc[i:i + batch_size]\n",
    "\n",
    "    # Get artist information for the current batch\n",
    "    artist_names = batch_df['name'].tolist()\n",
    "    results = get_artist_info(artist_names)\n",
    "\n",
    "    # Update spreadsheet\n",
    "    for j, result in enumerate(results):\n",
    "        df.at[i + j, 'genre'] = result['genres']\n",
    "        df.at[i + j, 'popularity'] = result['popularity']\n",
    "        df.at[i + j, 'uri'] = result['uri']\n",
    "    output_filename = 'albums_with_info.csv'\n",
    "    batch_df.to_csv(output_filename, mode='a', index=False, header=not i, encoding='utf-8')\n",
    "\n",
    "    time.sleep(1)"
   ]
  }
 ],
 "metadata": {
  "kernelspec": {
   "display_name": "Python 3 (ipykernel)",
   "language": "python",
   "name": "python3"
  },
  "language_info": {
   "codemirror_mode": {
    "name": "ipython",
    "version": 3
   },
   "file_extension": ".py",
   "mimetype": "text/x-python",
   "name": "python",
   "nbconvert_exporter": "python",
   "pygments_lexer": "ipython3",
   "version": "3.11.4"
  }
 },
 "nbformat": 4,
 "nbformat_minor": 5
}
